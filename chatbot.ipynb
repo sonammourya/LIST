{
  "nbformat": 4,
  "nbformat_minor": 0,
  "metadata": {
    "colab": {
      "provenance": [],
      "gpuType": "T4"
    },
    "kernelspec": {
      "name": "python3",
      "display_name": "Python 3"
    },
    "language_info": {
      "name": "python"
    },
    "accelerator": "GPU"
  },
  "cells": [
    {
      "cell_type": "code",
      "execution_count": 1,
      "metadata": {
        "colab": {
          "base_uri": "https://localhost:8080/"
        },
        "id": "v5MWoxqBrNZd",
        "outputId": "d6c1c092-2b56-426a-9726-5bfb3677e80d"
      },
      "outputs": [
        {
          "name": "stdout",
          "output_type": "stream",
          "text": [
            "enter text:\n"
          ]
        }
      ],
      "source": [
        "x=input(\"enter text:\")\n"
      ]
    },
    {
      "cell_type": "code",
      "source": [
        "def sWAP_cASE(s):\n",
        "    return s.swapcase()\n"
      ],
      "metadata": {
        "id": "FAaG-qiquUvT"
      },
      "execution_count": null,
      "outputs": []
    },
    {
      "cell_type": "code",
      "source": [
        "def lowercase(x):\n",
        "  return x.lower()\n",
        "def sWAP_cASE(s):\n",
        "    return s.swapcase()\n",
        "def uppercase(x):\n",
        "  return x.upper()\n",
        "\n",
        "def capitalize(x):\n",
        "  return x.capitalize()\n",
        "end=[\"exit\",\"esc\",\"stop\"]\n",
        "while x not in end:\n",
        "  if x==\"1\":\n",
        "    print(lowercase(x))\n",
        "  elif x==\"2\":\n",
        "    print(uppercase(x))\n",
        "  elif x==\"3\":\n",
        "    print(capitalize(x))\n",
        "  elif x==\"4\":\n",
        "    print(sWAP_cASE(x))\n",
        "  else:\n",
        "    print(\"invalid input\")\n",
        "  x=input(\"enter text:\")\n",
        "\n"
      ],
      "metadata": {
        "id": "syGfObZVyC89"
      },
      "execution_count": 4,
      "outputs": []
    },
    {
      "cell_type": "code",
      "source": [],
      "metadata": {
        "id": "V8jxigcszJBp"
      },
      "execution_count": null,
      "outputs": []
    }
  ]
}